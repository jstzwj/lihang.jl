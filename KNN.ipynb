{
 "cells": [
  {
   "cell_type": "code",
   "execution_count": 2,
   "metadata": {},
   "outputs": [
    {
     "data": {
      "text/plain": [
       "k_neighbors (generic function with 1 method)"
      ]
     },
     "execution_count": 2,
     "metadata": {},
     "output_type": "execute_result"
    }
   ],
   "source": [
    "using LinearAlgebra;\n",
    "mutable struct KNNModel\n",
    "    neighbor::Int32\n",
    "    metric::String\n",
    "    dataX::Array\n",
    "    dataY::Array\n",
    "end\n",
    "\n",
    "KNNModel() = KNNModel(3, \"euclidean\");\n",
    "KNNModel(neighbor_count) = KNNModel(neighbor_count, \"euclidean\");\n",
    "\n",
    "function fit!(model::KNNModel, X::Array, Y::Array)\n",
    "    model.dataX = X;\n",
    "    model.dataY = Y;\n",
    "end\n",
    "\n",
    "\n",
    "function predict(model::KNNModel, X::Array)\n",
    "    for i = 1:size(X)[1]\n",
    "    end\n",
    "end\n",
    "    \n",
    "function distance(m::Array, n::Array, p::Int32)\n",
    "    return sum((m - n).^p);\n",
    "end\n",
    "\n",
    "function k_neighbors(x::Array, X::Array, k::Int32, metric::String)\n",
    "    if k < 0\n",
    "        error(\"negative k is not allowed\");\n",
    "    end\n",
    "    \n",
    "    \n",
    "    distance_list::Array{Float32, 1} = zeros(Float32, size(X)[1]);\n",
    "    for i = 1:size(X)[1]\n",
    "        distance_list[i] = distance(x, X[i,:], 2);\n",
    "    end\n",
    "    \n",
    "    index_list::Int32 = 1:size(X)[1];\n",
    "    sort!(index_list, by = x->distance_list[x]);\n",
    "    \n",
    "    return index_list[:k];\n",
    "end\n"
   ]
  },
  {
   "cell_type": "code",
   "execution_count": null,
   "metadata": {},
   "outputs": [],
   "source": []
  }
 ],
 "metadata": {
  "kernelspec": {
   "display_name": "Julia 1.1.1",
   "language": "julia",
   "name": "julia-1.1"
  },
  "language_info": {
   "file_extension": ".jl",
   "mimetype": "application/julia",
   "name": "julia",
   "version": "1.1.1"
  }
 },
 "nbformat": 4,
 "nbformat_minor": 2
}
